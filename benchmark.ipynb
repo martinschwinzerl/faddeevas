{
 "cells": [
  {
   "cell_type": "markdown",
   "metadata": {},
   "source": [
    "# Benchmarking of various implementations of FADDEEVA's error functions"
   ]
  },
  {
   "cell_type": "code",
   "execution_count": null,
   "metadata": {},
   "outputs": [],
   "source": [
    "from __future__ import division, print_function"
   ]
  },
  {
   "cell_type": "markdown",
   "metadata": {},
   "source": [
    "Please compile the shared libraries by running the `Makefile`:"
   ]
  },
  {
   "cell_type": "code",
   "execution_count": null,
   "metadata": {
    "scrolled": true
   },
   "outputs": [],
   "source": [
    "!make clean"
   ]
  },
  {
   "cell_type": "code",
   "execution_count": null,
   "metadata": {},
   "outputs": [],
   "source": [
    "!make"
   ]
  },
  {
   "cell_type": "markdown",
   "metadata": {},
   "source": [
    "## I. Setup"
   ]
  },
  {
   "cell_type": "markdown",
   "metadata": {},
   "source": [
    "Import the multiprecision library `mpmath` as a reference for accuracy benchmarks:"
   ]
  },
  {
   "cell_type": "code",
   "execution_count": null,
   "metadata": {},
   "outputs": [],
   "source": [
    "import mpmath"
   ]
  },
  {
   "cell_type": "markdown",
   "metadata": {},
   "source": [
    "Import the rest of the usual lot:"
   ]
  },
  {
   "cell_type": "code",
   "execution_count": null,
   "metadata": {},
   "outputs": [],
   "source": [
    "import numpy as np\n",
    "import scipy\n",
    "import sys\n",
    "import time\n",
    "from collections import OrderedDict\n",
    "%load_ext Cython"
   ]
  },
  {
   "cell_type": "code",
   "execution_count": null,
   "metadata": {},
   "outputs": [],
   "source": [
    "import matplotlib\n",
    "import matplotlib.pyplot as plt\n",
    "import seaborn as sns\n",
    "from matplotlib.colors import LogNorm\n",
    "%matplotlib inline\n",
    "\n",
    "sns.set_style(\"white\")\n",
    "cmap = matplotlib.colors.ListedColormap(sns.color_palette(\"Blues\", 256))\n",
    "cmap2 = matplotlib.colors.ListedColormap(sns.cubehelix_palette(8, 256))\n",
    "matplotlib.rcParams['mathtext.fontset'] = 'custom'\n",
    "matplotlib.rcParams['mathtext.rm'] = 'Bitstream Vera Sans'\n",
    "matplotlib.rcParams['mathtext.it'] = 'Bitstream Vera Sans:italic'\n",
    "matplotlib.rcParams['mathtext.bf'] = 'Bitstream Vera Sans:bold'"
   ]
  },
  {
   "cell_type": "markdown",
   "metadata": {},
   "source": [
    "Timer class for a more convenient timing:"
   ]
  },
  {
   "cell_type": "code",
   "execution_count": null,
   "metadata": {},
   "outputs": [],
   "source": [
    "class Timer(object):\n",
    "    timing_fct = time.time\n",
    "    def __init__(self):\n",
    "        self.timing_fct = Timer.timing_fct # saves one lookup to class\n",
    "    def __enter__(self):\n",
    "        self.start = Timer.timing_fct()\n",
    "        return self\n",
    "\n",
    "    def __exit__(self, *args):\n",
    "        self.end = Timer.timing_fct()\n",
    "        self.interval_s = self.end - self.start"
   ]
  },
  {
   "cell_type": "markdown",
   "metadata": {},
   "source": [
    "The dictionary `wofz_impl` accesses the various function implementations.\n",
    "\n",
    "Input interface is `wofz_impl[<implementation language>](x, y)`: \n",
    "`x` is the real and `y` is the imaginary part of the input, both should be numpy arrays (i.e. provide the ctypes field)."
   ]
  },
  {
   "cell_type": "code",
   "execution_count": null,
   "metadata": {},
   "outputs": [],
   "source": [
    "wofz_impl = OrderedDict()"
   ]
  },
  {
   "cell_type": "markdown",
   "metadata": {},
   "source": [
    "### mpmath (reference)"
   ]
  },
  {
   "cell_type": "markdown",
   "metadata": {},
   "source": [
    "set the precision:"
   ]
  },
  {
   "cell_type": "code",
   "execution_count": null,
   "metadata": {},
   "outputs": [],
   "source": [
    "mpmath.mp.dps = 50"
   ]
  },
  {
   "cell_type": "markdown",
   "metadata": {},
   "source": [
    "prepare the `wofz_impl` entry:"
   ]
  },
  {
   "cell_type": "code",
   "execution_count": null,
   "metadata": {},
   "outputs": [],
   "source": [
    "def wofz(x, y):\n",
    "    z = mpmath.mpc(x, y)\n",
    "    w = mpmath.exp(-z**2) * mpmath.erfc(z * -1j)\n",
    "    return w.real, w.imag\n",
    "wofz_impl['mp'] = np.vectorize(wofz)"
   ]
  },
  {
   "cell_type": "markdown",
   "metadata": {},
   "source": [
    "### scipy (version > 0.14)\n",
    "\n",
    "http://ab-initio.mit.edu/wiki/index.php/Faddeeva_Package"
   ]
  },
  {
   "cell_type": "code",
   "execution_count": null,
   "metadata": {},
   "outputs": [],
   "source": [
    "from scipy.special import wofz as scipy_wofz"
   ]
  },
  {
   "cell_type": "markdown",
   "metadata": {},
   "source": [
    "prepare the `wofz_impl` entry:"
   ]
  },
  {
   "cell_type": "code",
   "execution_count": null,
   "metadata": {},
   "outputs": [],
   "source": [
    "def wofz(x, y):\n",
    "    z = scipy_wofz(x + 1j*y)\n",
    "    return z.real, z.imag\n",
    "wofz_impl['scipy'] = wofz"
   ]
  },
  {
   "cell_type": "markdown",
   "metadata": {},
   "source": [
    "### cernlib_c\n"
   ]
  },
  {
   "cell_type": "markdown",
   "metadata": {},
   "source": [
    "embedding the file in cython:\n",
    "\n",
    "(N.B.: our implementation here relies on 2D numpy.ndarray inputs)"
   ]
  },
  {
   "cell_type": "code",
   "execution_count": null,
   "metadata": {},
   "outputs": [],
   "source": [
    "%%cython --name cernlib_c\n",
    "# distutils: sources = ./cernlib_c/ErrorFunctions.c\n",
    "\n",
    "import numpy as np\n",
    "cimport numpy as np\n",
    "\n",
    "cdef extern void cerrf(double in_real, double in_imag, double* out_real, double* out_imag)\n",
    "\n",
    "cpdef tuple wofz(np.ndarray[double, ndim=2, mode=\"c\"] in_real,\n",
    "                 np.ndarray[double, ndim=2, mode=\"c\"] in_imag):\n",
    "    cdef np.ndarray[double, ndim=2, mode=\"c\"] out_real = \\\n",
    "        np.empty_like(in_real)\n",
    "    cdef np.ndarray[double, ndim=2, mode=\"c\"] out_imag = \\\n",
    "        np.empty_like(in_real)\n",
    "    cdef int i = 0\n",
    "    cdef int j = 0\n",
    "    cdef int m = in_real.shape[0]\n",
    "    cdef int n = in_real.shape[1]\n",
    "    for i in xrange(m):\n",
    "        for j in xrange(n):\n",
    "            cerrf(in_real[i, j], in_imag[i, j], &out_real[i, j], &out_imag[i, j])\n",
    "    return (out_real, out_imag)"
   ]
  },
  {
   "cell_type": "markdown",
   "metadata": {},
   "source": [
    "prepare the `wofz_impl` entry:"
   ]
  },
  {
   "cell_type": "code",
   "execution_count": null,
   "metadata": {},
   "outputs": [],
   "source": [
    "import cernlib_c\n",
    "wofz_impl['c'] = cernlib_c.wofz"
   ]
  },
  {
   "cell_type": "markdown",
   "metadata": {},
   "source": [
    "### cernlib_cuda"
   ]
  },
  {
   "cell_type": "markdown",
   "metadata": {},
   "source": [
    "try whether PyCUDA is available for the CUDA FADDEEVA version:"
   ]
  },
  {
   "cell_type": "code",
   "execution_count": null,
   "metadata": {},
   "outputs": [],
   "source": [
    "i_pycuda = False\n",
    "try:\n",
    "    from pycuda.autoinit import context\n",
    "    from pycuda import gpuarray\n",
    "    from pycuda.elementwise import ElementwiseKernel\n",
    "    i_pycuda = True\n",
    "except ImportError as e:\n",
    "    context = None\n",
    "    print ('No PyCUDA available, as per error message:')\n",
    "    print (e.message)"
   ]
  },
  {
   "cell_type": "markdown",
   "metadata": {},
   "source": [
    "define special GPU Timer:"
   ]
  },
  {
   "cell_type": "code",
   "execution_count": null,
   "metadata": {},
   "outputs": [],
   "source": [
    "class GPUTimer(object):\n",
    "    '''Use time.time() for GPU as timer.clock() doesn't work...'''\n",
    "    timing_fct = time.time\n",
    "    def __init__(self):\n",
    "        self.timing_fct = Timer.timing_fct # saves one lookup to class\n",
    "\n",
    "    def __enter__(self):\n",
    "        self.start = Timer.timing_fct()\n",
    "        return self\n",
    "\n",
    "    def __exit__(self, *args):\n",
    "        context.synchronize()\n",
    "        self.end = Timer.timing_fct()\n",
    "        self.interval_s = self.end - self.start"
   ]
  },
  {
   "cell_type": "markdown",
   "metadata": {},
   "source": [
    "prepare the CUDA kernel for the wofz function:"
   ]
  },
  {
   "cell_type": "code",
   "execution_count": null,
   "metadata": {},
   "outputs": [],
   "source": [
    "if i_pycuda:\n",
    "    kernel = ElementwiseKernel(\n",
    "        'double* in_real, double* in_imag, double* out_real, double* out_imag',\n",
    "#         'out_real[i] = in_real[i]; out_imag[i] = in_imag[i]',\n",
    "        'wofz(in_real[i], in_imag[i], &out_real[i], &out_imag[i]);',\n",
    "        'wofz_kernel',\n",
    "        preamble=open('cernlib_cuda/wofz.cu', 'r').read()\n",
    "    )"
   ]
  },
  {
   "cell_type": "markdown",
   "metadata": {},
   "source": [
    "prepare the `wofz_impl` entry:\n",
    "\n",
    "(N.B.: the function call will include the transfers to and from the GPU!)"
   ]
  },
  {
   "cell_type": "code",
   "execution_count": null,
   "metadata": {},
   "outputs": [],
   "source": [
    "if i_pycuda:\n",
    "    def wofz(x, y):\n",
    "        in_real = gpuarray.to_gpu(np.atleast_1d(x).astype(np.float64))\n",
    "        in_imag = gpuarray.to_gpu(np.atleast_1d(y).astype(np.float64))\n",
    "        out_real = gpuarray.empty(in_real.shape, dtype=np.float64)\n",
    "        out_imag = gpuarray.empty(in_imag.shape, dtype=np.float64)\n",
    "        kernel(in_real, in_imag, out_real, out_imag)\n",
    "        return out_real.get(), out_imag.get()\n",
    "    wofz_impl['cuda'] = wofz"
   ]
  },
  {
   "cell_type": "markdown",
   "metadata": {},
   "source": [
    "### cernlib_f90"
   ]
  },
  {
   "cell_type": "markdown",
   "metadata": {},
   "source": [
    "import and numpy-vectorise the f90 version:\n",
    "\n",
    "(N.B.: You need to have called the `Makefile` beforehand in order to have the compiled shared fortran libraries available!)"
   ]
  },
  {
   "cell_type": "code",
   "execution_count": null,
   "metadata": {},
   "outputs": [],
   "source": [
    "sys.path.append('cernlib_f90')\n",
    "from wwerf import ccperrfr\n",
    "\n",
    "wofz_impl['f90'] = np.vectorize(ccperrfr)"
   ]
  },
  {
   "cell_type": "markdown",
   "metadata": {},
   "source": [
    "### cernlib_root_adapted"
   ]
  },
  {
   "cell_type": "code",
   "execution_count": null,
   "metadata": {},
   "outputs": [],
   "source": [
    "%%cython --name cernlib_root_adapted\n",
    "# distutils: include_dirs = ./cernlib_root_adapted/erfc.h\n",
    "# distutils: sources = ./cernlib_root_adapted/erfc.c\n",
    "# distutils: extra_compile_args = -std=c99 -W -Wall -Wextra -pedantic -O3 -ftree-vectorize\n",
    "\n",
    "import numpy as np\n",
    "cimport numpy as np\n",
    "\n",
    "cdef extern void wofz (double in_re, double in_im, double* out_re, double* out_im)\n",
    "# cdef extern void wofzf(float in_re, float in_im, float* out_re, float* out_im)\n",
    "\n",
    "cpdef tuple wofz_cython(np.ndarray[double, ndim=2, mode=\"c\"] in_real,\n",
    "                        np.ndarray[double, ndim=2, mode=\"c\"] in_imag):\n",
    "    cdef np.ndarray[double, ndim=2, mode=\"c\"] out_real = \\\n",
    "        np.empty_like(in_real)\n",
    "    cdef np.ndarray[double, ndim=2, mode=\"c\"] out_imag = \\\n",
    "        np.empty_like(in_real)\n",
    "    cdef int i = 0\n",
    "    cdef int j = 0\n",
    "    cdef int m = in_real.shape[0]\n",
    "    cdef int n = in_real.shape[1]\n",
    "    for i in xrange(m):\n",
    "        for j in xrange(n):\n",
    "            wofz(in_real[i, j], in_imag[i, j], &out_real[i, j], &out_imag[i, j])\n",
    "    return (out_real, out_imag)"
   ]
  },
  {
   "cell_type": "code",
   "execution_count": null,
   "metadata": {},
   "outputs": [],
   "source": [
    "from cernlib_root_adapted import wofz_cython\n",
    "\n",
    "wofz_impl['c-root-adapt'] = wofz_cython"
   ]
  },
  {
   "cell_type": "markdown",
   "metadata": {},
   "source": [
    "### cernlib-root-adapted -DFAST_IMPL"
   ]
  },
  {
   "cell_type": "code",
   "execution_count": null,
   "metadata": {},
   "outputs": [],
   "source": [
    "%%cython --name cernlib_root_adapted_dfastimpl\n",
    "# distutils: include_dirs = ./cernlib_root_adapted/erfc.h\n",
    "# distutils: sources = ./cernlib_root_adapted/erfc.c\n",
    "# distutils: extra_compile_args = -std=c99 -W -Wall -Wextra -pedantic -O3 -ftree-vectorize -DFAST_IMPL\n",
    "\n",
    "import numpy as np\n",
    "cimport numpy as np\n",
    "\n",
    "cdef extern void wofz(double in_re, double in_im, double* out_re, double* out_im)\n",
    "\n",
    "cpdef tuple wofz_cython(np.ndarray[double, ndim=2, mode=\"c\"] in_real,\n",
    "                        np.ndarray[double, ndim=2, mode=\"c\"] in_imag):\n",
    "    cdef np.ndarray[double, ndim=2, mode=\"c\"] out_real = \\\n",
    "        np.empty_like(in_real)\n",
    "    cdef np.ndarray[double, ndim=2, mode=\"c\"] out_imag = \\\n",
    "        np.empty_like(in_real)\n",
    "    cdef int i = 0\n",
    "    cdef int j = 0\n",
    "    cdef int m = in_real.shape[0]\n",
    "    cdef int n = in_real.shape[1]\n",
    "    for i in xrange(m):\n",
    "        for j in xrange(n):\n",
    "            wofz(in_real[i, j], in_imag[i, j], &out_real[i, j], &out_imag[i, j])\n",
    "    return (out_real, out_imag)"
   ]
  },
  {
   "cell_type": "code",
   "execution_count": null,
   "metadata": {},
   "outputs": [],
   "source": [
    "from cernlib_root_adapted_dfastimpl import wofz_cython\n",
    "\n",
    "wofz_impl['c-root-adapt-fast'] = wofz_cython"
   ]
  },
  {
   "cell_type": "markdown",
   "metadata": {},
   "source": [
    "### cernlib-root-adapted -DSINCOS"
   ]
  },
  {
   "cell_type": "code",
   "execution_count": null,
   "metadata": {},
   "outputs": [],
   "source": [
    "%%cython --name cernlib_root_adapted_dsincos\n",
    "# distutils: include_dirs = ./cernlib_root_adapted/erfc.h\n",
    "# distutils: sources = ./cernlib_root_adapted/erfc.c\n",
    "# distutils: extra_compile_args = -std=c99 -W -Wall -Wextra -pedantic -O3 -ftree-vectorize -DSINCOS\n",
    "\n",
    "import numpy as np\n",
    "cimport numpy as np\n",
    "\n",
    "cdef extern void wofz(double in_re, double in_im, double* out_re, double* out_im)\n",
    "\n",
    "cpdef tuple wofz_cython(np.ndarray[double, ndim=2, mode=\"c\"] in_real,\n",
    "                        np.ndarray[double, ndim=2, mode=\"c\"] in_imag):\n",
    "    cdef np.ndarray[double, ndim=2, mode=\"c\"] out_real = \\\n",
    "        np.empty_like(in_real)\n",
    "    cdef np.ndarray[double, ndim=2, mode=\"c\"] out_imag = \\\n",
    "        np.empty_like(in_real)\n",
    "    cdef int i = 0\n",
    "    cdef int j = 0\n",
    "    cdef int m = in_real.shape[0]\n",
    "    cdef int n = in_real.shape[1]\n",
    "    for i in xrange(m):\n",
    "        for j in xrange(n):\n",
    "            wofz(in_real[i, j], in_imag[i, j], &out_real[i, j], &out_imag[i, j])\n",
    "    return (out_real, out_imag)"
   ]
  },
  {
   "cell_type": "code",
   "execution_count": null,
   "metadata": {},
   "outputs": [],
   "source": [
    "from cernlib_root_adapted_dsincos import wofz_cython\n",
    "\n",
    "wofz_impl['c-root-adapt-sincos'] = wofz_cython"
   ]
  },
  {
   "cell_type": "markdown",
   "metadata": {
    "collapsed": true
   },
   "source": [
    "## II. Accuracy Benchmark"
   ]
  },
  {
   "cell_type": "markdown",
   "metadata": {},
   "source": [
    "### Accuracy within range $10^{-8}$ to $10^8$\n",
    "\n",
    "(outside of this, the `mpmath` multiplications of extremely large and small factors do not behave well)"
   ]
  },
  {
   "cell_type": "markdown",
   "metadata": {},
   "source": [
    "define range:"
   ]
  },
  {
   "cell_type": "code",
   "execution_count": null,
   "metadata": {},
   "outputs": [],
   "source": [
    "exp_min = -8\n",
    "exp_max = 8\n",
    "\n",
    "r = 10**np.linspace(exp_min, exp_max, 101)\n",
    "x, y = np.meshgrid(r, r)"
   ]
  },
  {
   "cell_type": "markdown",
   "metadata": {},
   "source": [
    "the reference values via `mpmath`:"
   ]
  },
  {
   "cell_type": "code",
   "execution_count": null,
   "metadata": {},
   "outputs": [],
   "source": [
    "# takes ~10sec\n",
    "wr_ref, wi_ref = wofz_impl['mp'](x, y)"
   ]
  },
  {
   "cell_type": "code",
   "execution_count": null,
   "metadata": {
    "scrolled": false
   },
   "outputs": [],
   "source": [
    "cmap_std = matplotlib.colors.ListedColormap(sns.color_palette(\"RdBu_r\", 16))\n",
    "def plot_error(x,y,z, title, vextr=None, n_orders_div=1, error_type=\"relative\"):\n",
    "    fig, ax = plt.subplots(figsize=(8,6))\n",
    "    if vextr is not None:\n",
    "        z = np.clip(a=z, a_min=vextr[0], a_max=vextr[1])\n",
    "        n_orders = int(np.ceil(np.abs(np.log10(vextr[0]) - \n",
    "                                      np.log10(vextr[1])))) // n_orders_div #// 2 + 1\n",
    "        cmap_idv = matplotlib.colors.ListedColormap(sns.color_palette(\"RdBu_r\", n_orders))\n",
    "        im  = ax.imshow(\n",
    "                   #np.vectorize(mpmath.log10)(z).astype(np.float64),\n",
    "                   z.astype(np.float64),\n",
    "                   origin=\"lower\",extent=[exp_min,exp_max,exp_min,exp_max],aspect='auto',\n",
    "                   norm=LogNorm(vmin=vextr[0], vmax=vextr[1]),\n",
    "                   cmap=cmap_idv)\n",
    "    else:\n",
    "        im = ax.imshow(np.vectorize(mpmath.log10)(z).astype(np.float64),\n",
    "                       origin=\"lower\",extent=[exp_min,exp_max,exp_min,exp_max],aspect='auto',\n",
    "                       cmap=cmap_std)\n",
    "\n",
    "    # Plot look: axes, title, ticks, ...\n",
    "    cbar = plt.colorbar(im)\n",
    "    if error_type == \"absolute_error\":\n",
    "        cbar.set_label('absolute error', labelpad=-18, y=1.05, rotation=0)\n",
    "    else:\n",
    "        cbar.set_label('relative error', labelpad=-18, y=1.05, rotation=0)\n",
    "    ax.set_title(title)\n",
    "    ax.set_xlabel('real')\n",
    "    ax.set_ylabel('imaginary')\n",
    "    ax.set_xticklabels([ \"$10^{\" + str(i) + \"}$\" for i in range(exp_min, exp_max + 1, 2)])\n",
    "    ax.set_yticklabels([ \"$10^{\" + str(i) + \"}$\" for i in range(exp_min, exp_max + 1, 2)])\n",
    "    \n",
    "    ax.grid(True, c='black', ls='--')\n",
    "    \n",
    "    return fig, ax\n",
    "\n",
    "def get_extr(z):\n",
    "    return [10**np.floor(np.log10(np.min(z.astype(np.float64)))), \n",
    "            10**np.ceil(np.log10(np.max(z.astype(np.float64))))]\n",
    "\n",
    "test = True\n",
    "if test is True:\n",
    "    wr, wi = wofz_impl['c'](x, y)\n",
    "    z = abs(wr - wr_ref) / wr_ref\n",
    "    #z = abs(wi - wi_ref)/wi_ref\n",
    "    fig, ax = plot_error(x,y,z, title='c',\n",
    "                         vextr=get_extr(z))"
   ]
  },
  {
   "cell_type": "markdown",
   "metadata": {},
   "source": [
    "### Compare the relative errors for the different implementations\n",
    "You can either plot the real or the imaginar parts by setting z to real_error or imag_error"
   ]
  },
  {
   "cell_type": "code",
   "execution_count": null,
   "metadata": {},
   "outputs": [],
   "source": [
    "real_error = dict()\n",
    "imag_error = dict()\n",
    "\n",
    "for implementation, function in wofz_impl.items():\n",
    "    if implementation == 'mp':\n",
    "        continue\n",
    "    wr, wi = function(x, y)\n",
    "    zr = np.abs(wr - wr_ref)/wr_ref\n",
    "    zi = np.abs(wi - wi_ref)/wi_ref\n",
    "    real_error[implementation] = zr\n",
    "    imag_error[implementation] = zi"
   ]
  },
  {
   "cell_type": "code",
   "execution_count": null,
   "metadata": {},
   "outputs": [],
   "source": [
    "vextr = []\n",
    "err_min = np.inf\n",
    "err_max = -np.inf\n",
    "for implementation in real_error:\n",
    "    zr = real_error[implementation]\n",
    "    zi = imag_error[implementation]\n",
    "    vextr += get_extr(zr) + get_extr(zi)\n",
    "    err_min = min(vextr + [err_min])\n",
    "    err_max = max(vextr + [err_max])"
   ]
  },
  {
   "cell_type": "code",
   "execution_count": null,
   "metadata": {
    "scrolled": true
   },
   "outputs": [],
   "source": [
    "for implementation in real_error:\n",
    "    re_err = real_error[implementation]\n",
    "    im_err = imag_error[implementation]\n",
    "    plot_error(x, y, re_err, title=implementation, \n",
    "               vextr=[err_min, 10**-8])\n",
    "    plt.suptitle('real error')\n",
    "    plot_error(x, y, im_err, title=implementation, \n",
    "               vextr=[err_min, 10**-8])\n",
    "    plt.suptitle('imaginary error')"
   ]
  },
  {
   "cell_type": "code",
   "execution_count": 63,
   "metadata": {
    "collapsed": false
   },
   "outputs": [],
   "source": [
    "xr = np.array([[0., 1., 2., 3., 4., 5., 6., 7., 8., 9., 10.]])\n",
    "yr = np.array([[10**-8]*11])"
   ]
  },
  {
   "cell_type": "code",
   "execution_count": null,
   "metadata": {},
   "outputs": [],
   "source": [
    "np.array(wofz_impl['c-root-adapt'](xr, yr)) - np.array(wofz_impl['mp'](xr, yr))"
   ]
  },
  {
   "cell_type": "code",
   "execution_count": null,
   "metadata": {},
   "outputs": [],
   "source": [
    "plt.plot(real_error['c-root-adapt'][-1].astype(float))"
   ]
  },
  {
   "cell_type": "markdown",
   "metadata": {},
   "source": [
    "## III. Timing Benchmark"
   ]
  },
  {
   "cell_type": "code",
   "execution_count": null,
   "metadata": {},
   "outputs": [],
   "source": [
    "def plot_timing(x,y,z, title, unify=False):\n",
    "    fig, ax = plt.subplots(figsize=(8,6))\n",
    "    z = np.clip(a=z, a_min=1e-17, a_max=1e0)\n",
    "    z *= 1e6 # make us out of s\n",
    "    im  = ax.imshow(\n",
    "                   z.astype(np.float64),\n",
    "                   origin=\"lower\",extent=[exp_min,exp_max,exp_min,exp_max],aspect='auto',\n",
    "    )\n",
    "\n",
    "\n",
    "    # Plot look: axes, title, ticks, ...\n",
    "    cbar = plt.colorbar(im)\n",
    "    cbar.set_label('t [us] per call', labelpad=-18, y=1.05, rotation=0)\n",
    "    ax.set_title(title)\n",
    "    ax.set_xlabel('real')\n",
    "    ax.set_ylabel('imaginary')\n",
    "    ax.set_xticklabels([ \"$10^{\" + str(i) + \"}$\" for i in range(exp_min, exp_max + 1, 2)])\n",
    "    ax.set_yticklabels([ \"$10^{\" + str(i) + \"}$\" for i in range(exp_min, exp_max + 1, 2)])\n",
    "    \n",
    "    return fig, ax"
   ]
  },
  {
   "cell_type": "code",
   "execution_count": null,
   "metadata": {},
   "outputs": [],
   "source": [
    "import gc\n",
    "\n",
    "exp_min = -8\n",
    "exp_max = 8\n",
    "\n",
    "r = 10**np.linspace(exp_min, exp_max, 21)\n",
    "x, y = np.meshgrid(r, r)\n",
    "\n",
    "def dummy(a,b):\n",
    "    pass\n",
    "\n",
    "# def timeit(x,y, function, ones_array, nrep_timing=3, n_entries_array=50, Timer=Timer):\n",
    "def timeit(x,y, function, ones_array, nrep_timing=10, n_entries_array=5000, Timer=Timer):\n",
    "    '''Time the implementation on the arrays x,y = x + iy'''\n",
    "    T = np.zeros_like(x)\n",
    "    timings = np.zeros(nrep_timing, dtype=np.float32)\n",
    "    for el in range(len(x)):\n",
    "        for el2 in range(len(x[0])):\n",
    "            xx = ones_array * x[el][el2]\n",
    "            yy = ones_array * y[el][el2]\n",
    "            for i in range(nrep_timing):\n",
    "                gcold = gc.isenabled()\n",
    "                gc.disable()\n",
    "                try:\n",
    "                    with Timer() as t:\n",
    "                        wr, wi = function(xx, yy)\n",
    "                finally:\n",
    "                    if gcold:\n",
    "                        gc.enable()\n",
    "                timings[i] = t.interval_s\n",
    "            T[el,el2] = np.median(timings)/n_entries_array\n",
    "            dummy(wr,wi) # use wr, wi, otherwise they might get optimized away\n",
    "    return T\n",
    "if test is True:\n",
    "    fn = wofz_impl['c']\n",
    "    z = timeit(x,y, fn, np.ones((1,timeit.__defaults__[1]), dtype=np.float64))\n",
    "    plot_timing(x,y,z, 'c')"
   ]
  },
  {
   "cell_type": "code",
   "execution_count": null,
   "metadata": {
    "scrolled": false
   },
   "outputs": [],
   "source": [
    "n_entries_array = 500\n",
    "\n",
    "timings_avg = OrderedDict()\n",
    "\n",
    "for implementation, function in wofz_impl.items():\n",
    "    if implementation is not 'mp':\n",
    "        print (implementation)\n",
    "        # CUDA should be timed without host-device memory transfers:\n",
    "        if implementation is 'cuda':\n",
    "#             z = timeit(gpuarray.to_gpu(x), gpuarray.to_gpu(y), kernel, \n",
    "#                        gpuarray.empty((1,int(1e8)), dtype=np.float64).fill(1.),\n",
    "#                        n_entries_array=int(1e8), Timer=GPUTimer).get()\n",
    "            continue\n",
    "        else:\n",
    "            z = timeit(x,y, function, np.ones((1,n_entries_array), dtype=np.float64))\n",
    "            timings_avg[implementation] = np.mean(z)\n",
    "        plot_timing(x,y,z, title=implementation)\n",
    "#         plot_timing(x,y,z, title=implementation)"
   ]
  },
  {
   "cell_type": "code",
   "execution_count": null,
   "metadata": {},
   "outputs": [],
   "source": [
    "name_len = max(map(len, wofz_impl))\n",
    "for impl in sorted(timings_avg, key=timings_avg.__getitem__):\n",
    "    print (('{impl:' + str(name_len) + \n",
    "           's}: {avg_time:.3f} us/call').format(\n",
    "                impl=impl, avg_time=timings_avg[impl]*1e6))"
   ]
  },
  {
   "cell_type": "markdown",
   "metadata": {},
   "source": [
    "# IV. Memory Footprint\n",
    "Computed by hand, counting the number of variables and lookup tables. Neglecting the memory needed by calls to pow, exp etc. Assuming 4 bytes for integers. Not counting the memory for the input and output. Constants are treated as variables of the corresponding size. Variables: all declarations of variables, even if they might be eliminated by the compiler. Tables: all memory used to store fixed constants, lookup tables, ... . Some values are estimates because they depend on the program flow (if/else branches).\n",
    "- cernlib-c: 684 Bytes\n",
    "- f90-1: 692 Bytes\n",
    "- f90-2: 716 Bytes\n",
    "- cernlib-cuda: 684 Bytes\n",
    "- cernlib-root-adapted-FAST_IMPL: Tables: 704 Bytes, Vars: ~350 Bytes\n",
    "- cenlib-root-adapted: Tables: 2688 Bytes, Vars: ~ 600 Bytes\n",
    "\n",
    "\n"
   ]
  },
  {
   "cell_type": "markdown",
   "metadata": {
    "collapsed": true
   },
   "source": [
    "#  V. Comments"
   ]
  },
  {
   "cell_type": "markdown",
   "metadata": {},
   "source": [
    "## include C via cython instead of ctypes"
   ]
  },
  {
   "cell_type": "markdown",
   "metadata": {},
   "source": [
    "Cython allows to call the C function in a less involved way which leads to much less overhead and therefore more realistic C performance. This fact is also partly due to the numpy.ndarray output creation being implemented on the C side and not in python (as it happens in the ctypes case).\n",
    "\n",
    "Ctypes rely on calling the `Makefile` before running this section.\n",
    "\n",
    "Defining the cython interface:"
   ]
  },
  {
   "cell_type": "code",
   "execution_count": null,
   "metadata": {},
   "outputs": [],
   "source": [
    "%%cython --name cernlib_c_cython\n",
    "# distutils: sources = ./cernlib_c/ErrorFunctions.c\n",
    "\n",
    "import numpy as np\n",
    "cimport numpy as np\n",
    "\n",
    "cdef extern void cerrf(double in_real, double in_imag, double* out_real, double* out_imag)\n",
    "\n",
    "cpdef tuple wofz(np.ndarray[double, ndim=2, mode=\"c\"] in_real,\n",
    "                 np.ndarray[double, ndim=2, mode=\"c\"] in_imag):\n",
    "    cdef np.ndarray[double, ndim=2, mode=\"c\"] out_real = \\\n",
    "        np.empty_like(in_real)\n",
    "    cdef np.ndarray[double, ndim=2, mode=\"c\"] out_imag = \\\n",
    "        np.empty_like(in_real)\n",
    "    cdef int i = 0\n",
    "    cdef int j = 0\n",
    "    cdef int m = in_real.shape[0]\n",
    "    cdef int n = in_real.shape[1]\n",
    "    for i in xrange(m):\n",
    "        for j in xrange(n):\n",
    "            cerrf(in_real[i, j], in_imag[i, j], &out_real[i, j], &out_imag[i, j])\n",
    "    return (out_real, out_imag)"
   ]
  },
  {
   "cell_type": "code",
   "execution_count": null,
   "metadata": {},
   "outputs": [],
   "source": [
    "from cernlib_c_cython import wofz as test_cython"
   ]
  },
  {
   "cell_type": "markdown",
   "metadata": {},
   "source": [
    "Defining the ctypes interface:"
   ]
  },
  {
   "cell_type": "code",
   "execution_count": null,
   "metadata": {},
   "outputs": [],
   "source": [
    "import ctypes\n",
    "from numpy.ctypeslib import ndpointer\n",
    "np_double_p = ndpointer(dtype=np.float64)\n",
    "\n",
    "dll = ctypes.cdll.LoadLibrary('cernlib_c/wofz.so')\n",
    "dll.cerrf.restype = None\n",
    "dll.cerrf.argtypes = [ctypes.c_double, ctypes.c_double, np_double_p, np_double_p]\n",
    "\n",
    "def test_ctypes(x, y):\n",
    "    in_real = ctypes.c_double(x)\n",
    "    in_imag = ctypes.c_double(y)\n",
    "    out_real = np.empty(1, dtype=np.float64)\n",
    "    out_imag = np.empty(1, dtype=np.float64)\n",
    "    dll.cerrf(in_real, in_imag, out_real, out_imag)\n",
    "    return out_real[0], out_imag[0]\n",
    "\n",
    "test_ctypes = np.vectorize(test_ctypes)"
   ]
  },
  {
   "cell_type": "markdown",
   "metadata": {},
   "source": [
    "For single values, there is already a huge difference (half of which comes from the numpy allocation and ctypes conversion):"
   ]
  },
  {
   "cell_type": "code",
   "execution_count": null,
   "metadata": {},
   "outputs": [],
   "source": [
    "a, b = np.atleast_2d(1.), np.atleast_2d(2.)"
   ]
  },
  {
   "cell_type": "code",
   "execution_count": null,
   "metadata": {
    "scrolled": true
   },
   "outputs": [],
   "source": [
    "print ('ctypes implementation:')\n",
    "t_ctypes = %timeit -o -c test_ctypes(a, b)\n",
    "print ('\\n\\ncython implementation:')\n",
    "t_cython = %timeit -o -c test_cython(a, b)\n",
    "print ('\\n\\nratio between ctypes and cython:\\n{0:.2f}'.format(\n",
    "    t_ctypes.best / t_cython.best))"
   ]
  },
  {
   "cell_type": "markdown",
   "metadata": {},
   "source": [
    "For large arrays it becomes even more evident:"
   ]
  },
  {
   "cell_type": "code",
   "execution_count": null,
   "metadata": {},
   "outputs": [],
   "source": [
    "exp_min = -8\n",
    "exp_max = 8\n",
    "\n",
    "r = 10**np.linspace(exp_min, exp_max, 101)\n",
    "x, y = np.meshgrid(r, r)"
   ]
  },
  {
   "cell_type": "code",
   "execution_count": null,
   "metadata": {},
   "outputs": [],
   "source": [
    "print ('ctypes implementation:')\n",
    "t_ctypes = %timeit -o -c test_ctypes(x, y)\n",
    "print ('\\n\\ncython implementation:')\n",
    "t_cython = %timeit -o -c test_cython(x, y)\n",
    "print ('\\n\\nratio between ctypes and cython:\\n{0:.2f}'.format(\n",
    "       t_ctypes.best / t_cython.best))"
   ]
  },
  {
   "cell_type": "markdown",
   "metadata": {},
   "source": [
    "## Impact of C compiler options to cython"
   ]
  },
  {
   "cell_type": "markdown",
   "metadata": {},
   "source": [
    "By using more aggressive compiler options for `gcc` one can improve the cythonised functions in terms of speed:"
   ]
  },
  {
   "cell_type": "code",
   "execution_count": null,
   "metadata": {},
   "outputs": [],
   "source": [
    "%%cython --name cernlib_c_cython_aggr\n",
    "# distutils: sources = ./cernlib_c/ErrorFunctions.c\n",
    "# distutils: extra_compile_args = -std=c99 -W -Wall -Wextra -pedantic -O3 -ftree-vectorize\n",
    "\n",
    "import numpy as np\n",
    "cimport numpy as np\n",
    "\n",
    "cdef extern void cerrf(double in_real, double in_imag, double* out_real, double* out_imag)\n",
    "\n",
    "cpdef tuple wofz(np.ndarray[double, ndim=2, mode=\"c\"] in_real,\n",
    "                 np.ndarray[double, ndim=2, mode=\"c\"] in_imag):\n",
    "    cdef np.ndarray[double, ndim=2, mode=\"c\"] out_real = \\\n",
    "        np.empty_like(in_real)\n",
    "    cdef np.ndarray[double, ndim=2, mode=\"c\"] out_imag = \\\n",
    "        np.empty_like(in_real)\n",
    "    cdef int i = 0\n",
    "    cdef int j = 0\n",
    "    cdef int m = in_real.shape[0]\n",
    "    cdef int n = in_real.shape[1]\n",
    "    for i in xrange(m):\n",
    "        for j in xrange(n):\n",
    "            cerrf(in_real[i, j], in_imag[i, j], &out_real[i, j], &out_imag[i, j])\n",
    "    return (out_real, out_imag)"
   ]
  },
  {
   "cell_type": "code",
   "execution_count": null,
   "metadata": {},
   "outputs": [],
   "source": [
    "from cernlib_c_cython_aggr import wofz as test_cython_aggr"
   ]
  },
  {
   "cell_type": "markdown",
   "metadata": {},
   "source": [
    "The corresponding timing as in the previous section shows no influence from the more aggressive compiler options:"
   ]
  },
  {
   "cell_type": "code",
   "execution_count": null,
   "metadata": {},
   "outputs": [],
   "source": [
    "print ('default cython implementation:')\n",
    "t_cython_def = %timeit -o -c test_cython(a, b)\n",
    "print ('\\n\\ncompiler flag optimised cython implementation:')\n",
    "t_cython_aggr = %timeit -o -c test_cython_aggr(a, b)\n",
    "print ('\\n\\nratio between default and optimised:\\n{0:.2f}'.format(\n",
    "       t_cython_def.best / t_cython_aggr.best))"
   ]
  },
  {
   "cell_type": "markdown",
   "metadata": {},
   "source": [
    "The results are still the same:"
   ]
  },
  {
   "cell_type": "code",
   "execution_count": null,
   "metadata": {},
   "outputs": [],
   "source": [
    "res_def = np.array(test_cython(x, y))\n",
    "res_aggr = np.array(test_cython_aggr(x, y))\n",
    "print ('Identical arrays? -->', np.all(res_def == res_aggr))"
   ]
  },
  {
   "cell_type": "markdown",
   "metadata": {},
   "source": [
    "### -ffast-math introduces small errors but improves the speed"
   ]
  },
  {
   "cell_type": "code",
   "execution_count": null,
   "metadata": {},
   "outputs": [],
   "source": [
    "%%cython --name cernlib_c_cython_fastmath\n",
    "# distutils: sources = ./cernlib_c/ErrorFunctions.c\n",
    "# distutils: extra_compile_args = -ffast-math\n",
    "\n",
    "import numpy as np\n",
    "cimport numpy as np\n",
    "\n",
    "cdef extern void cerrf(double in_real, double in_imag, double* out_real, double* out_imag)\n",
    "\n",
    "cpdef tuple wofz(np.ndarray[double, ndim=2, mode=\"c\"] in_real,\n",
    "                 np.ndarray[double, ndim=2, mode=\"c\"] in_imag):\n",
    "    cdef np.ndarray[double, ndim=2, mode=\"c\"] out_real = \\\n",
    "        np.empty_like(in_real)\n",
    "    cdef np.ndarray[double, ndim=2, mode=\"c\"] out_imag = \\\n",
    "        np.empty_like(in_real)\n",
    "    cdef int i = 0\n",
    "    cdef int j = 0\n",
    "    cdef int m = in_real.shape[0]\n",
    "    cdef int n = in_real.shape[1]\n",
    "    for i in xrange(m):\n",
    "        for j in xrange(n):\n",
    "            cerrf(in_real[i, j], in_imag[i, j], &out_real[i, j], &out_imag[i, j])\n",
    "    return (out_real, out_imag)"
   ]
  },
  {
   "cell_type": "code",
   "execution_count": null,
   "metadata": {},
   "outputs": [],
   "source": [
    "from cernlib_c_cython_fastmath import wofz as test_cython_fastmath"
   ]
  },
  {
   "cell_type": "markdown",
   "metadata": {},
   "source": [
    "The corresponding timing as in the previous section shows a few percents difference for small array lengths:"
   ]
  },
  {
   "cell_type": "code",
   "execution_count": null,
   "metadata": {
    "scrolled": true
   },
   "outputs": [],
   "source": [
    "print ('default cython implementation:')\n",
    "t_cython_def = %timeit -o -c test_cython(a, b)\n",
    "print ('\\n\\nfastmath optimised cython implementation:')\n",
    "t_cython_fastmath = %timeit -o -c test_cython_fastmath(a, b)\n",
    "print ('\\n\\nratio between default and optimised:\\n{0:.2f}'.format(\n",
    "       t_cython_def.best / t_cython_fastmath.best))"
   ]
  },
  {
   "cell_type": "markdown",
   "metadata": {},
   "source": [
    "... which is negligible for large arrays:"
   ]
  },
  {
   "cell_type": "code",
   "execution_count": null,
   "metadata": {},
   "outputs": [],
   "source": [
    "print ('default cython implementation:')\n",
    "t_cython_def = %timeit -o -c test_cython(x, y)\n",
    "print ('\\n\\nfastmath optimised cython implementation:')\n",
    "t_cython_fastmath = %timeit -o -c test_cython_fastmath(x, y)\n",
    "print ('\\n\\nratio between default and optimised:\\n{0:.2f}'.format(\n",
    "       t_cython_def.best / t_cython_fastmath.best))"
   ]
  },
  {
   "cell_type": "markdown",
   "metadata": {},
   "source": [
    "-fast-math introduces small errors though:"
   ]
  },
  {
   "cell_type": "code",
   "execution_count": null,
   "metadata": {},
   "outputs": [],
   "source": [
    "res_def = np.array(test_cython(x, y))\n",
    "res_fastmath = np.array(test_cython_fastmath(x, y))\n",
    "print ('Identical arrays? -->', np.all(res_def == res_fastmath))"
   ]
  },
  {
   "cell_type": "markdown",
   "metadata": {},
   "source": [
    "with the maximal absolute error being"
   ]
  },
  {
   "cell_type": "code",
   "execution_count": null,
   "metadata": {},
   "outputs": [],
   "source": [
    "np.max(res_def - res_fastmath)"
   ]
  },
  {
   "cell_type": "code",
   "execution_count": null,
   "metadata": {},
   "outputs": [],
   "source": []
  }
 ],
 "metadata": {
  "kernelspec": {
   "display_name": "Python 3",
   "language": "python",
   "name": "python3"
  },
  "language_info": {
   "codemirror_mode": {
    "name": "ipython",
    "version": 3
   },
   "file_extension": ".py",
   "mimetype": "text/x-python",
   "name": "python",
   "nbconvert_exporter": "python",
   "pygments_lexer": "ipython3",
   "version": "3.8.5"
  }
 },
 "nbformat": 4,
 "nbformat_minor": 1
}
