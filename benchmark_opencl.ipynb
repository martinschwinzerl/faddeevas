{
 "cells": [
  {
   "cell_type": "code",
   "execution_count": 84,
   "metadata": {},
   "outputs": [],
   "source": [
    "import pyopencl as cl\n",
    "import pyopencl.cltypes\n",
    "import numpy as np"
   ]
  },
  {
   "cell_type": "code",
   "execution_count": 13,
   "metadata": {},
   "outputs": [],
   "source": [
    "exp_min = -14\n",
    "exp_max = 8\n",
    "num_axis_points = 500\n",
    "\n",
    "axis = np.logspace( exp_min, exp_max, num_axis_points, base=10.0, dtype=np.float64)"
   ]
  },
  {
   "cell_type": "code",
   "execution_count": 14,
   "metadata": {},
   "outputs": [],
   "source": [
    "from numpy.random import Generator, MT19937\n",
    "seed = 20210515\n",
    "prng = Generator(MT19937(seed))"
   ]
  },
  {
   "cell_type": "code",
   "execution_count": 18,
   "metadata": {},
   "outputs": [],
   "source": [
    "def get_all_devices():\n",
    "    devices = []\n",
    "    pp = cl.get_platforms()\n",
    "    for p in pp:\n",
    "        dd = p.get_devices()\n",
    "        for d in dd:\n",
    "            devices.append( d )\n",
    "    return devices"
   ]
  },
  {
   "cell_type": "code",
   "execution_count": 88,
   "metadata": {},
   "outputs": [],
   "source": [
    "def run_benchmark( ctx, kernel, x, y, x_out, y_out, num_repetitions=3):\n",
    "    assert len( x ) > 0\n",
    "    assert len( x ) == len( y )\n",
    "    assert len( x ) == len( x_out )\n",
    "    assert len( x ) == len( y_out )\n",
    "    times = np.zeros( num_repetitions )\n",
    "    \n",
    "    if num_repetitions < 1:\n",
    "        num_repetitions = 1\n",
    "        \n",
    "    with cl.CommandQueue( ctx, properties=cl.command_queue_properties.PROFILING_ENABLE ) as queue:\n",
    "        x_out_arg = cl.Buffer( ctx, cl.mem_flags.READ_WRITE, size=x_out.nbytes )\n",
    "        y_out_arg = cl.Buffer( ctx, cl.mem_flags.READ_WRITE, size=y_out.nbytes )\n",
    "        x_arg = cl.Buffer( ctx, cl.mem_flags.READ_ONLY, size=x.nbytes )\n",
    "        y_arg = cl.Buffer( ctx, cl.mem_flags.READ_ONLY, size=y.nbytes )\n",
    "        \n",
    "        \n",
    "        for ii in range( num_repetitions ):\n",
    "            if ii % 10 == 0:\n",
    "                print( f\"start repetition {(ii+1):3d} / {num_repetitions:3d}\" )\n",
    "            cl.enqueue_copy( queue, x_arg, x )        \n",
    "            ev = cl.enqueue_copy( queue, y_arg, y )\n",
    "            queue.finish()\n",
    "    \n",
    "            kernel.set_args( cl.cltypes.long( len( x ) ), x_arg, y_arg, x_out_arg, y_out_arg )\n",
    "            ev = cl.enqueue_nd_range_kernel( queue, kernel, x.shape, None )\n",
    "            queue.finish()\n",
    "            ev.wait()            \n",
    "            times[ ii ] = ( ev.profile.end - ev.profile.start ) * 1e-9     \n",
    "        \n",
    "        del x_out_arg\n",
    "        del x_arg\n",
    "        del y_out_arg\n",
    "        del y_arg\n",
    "    return times"
   ]
  },
  {
   "cell_type": "code",
   "execution_count": 67,
   "metadata": {},
   "outputs": [
    {
     "name": "stdout",
     "output_type": "stream",
     "text": [
      "number of devices found: 4\n"
     ]
    }
   ],
   "source": [
    "devices = get_all_devices()\n",
    "print( f\"number of devices found: {len(devices)}\" )\n",
    "\n",
    "used_device_ids = [ 0, ]\n",
    "used_devices    = { ii: devices[ ii ] for ii in used_device_ids }\n",
    "contexts        = { ii: cl.Context(devices=[devices[ii]]) for ii in used_device_ids }"
   ]
  },
  {
   "cell_type": "code",
   "execution_count": 64,
   "metadata": {},
   "outputs": [],
   "source": [
    "prog_c = { ii: cl.Program( contexts[ ii ], \"\"\"\n",
    "#include \"cernlib_c/ErrorFunctions.h\"\n",
    "\n",
    "__kernel void eval_cerrf( \n",
    "    long int const num_arguments,\n",
    "    __global double const* __restrict x_vec, \n",
    "    __global double const* __restrict y_vec, \n",
    "    __global double* __restrict x_out_vec, \n",
    "    __global double* __restrict y_out_vec )\n",
    "{\n",
    "    long int const ii =  get_global_id( 0 );\n",
    "    if( ii < num_arguments )\n",
    "    {\n",
    "        double x_out, y_out;        \n",
    "        cerrf( x_vec[ ii ], y_vec[ ii ], &x_out, &y_out );\n",
    "        x_out_vec[ ii ] = x_out;\n",
    "        y_out_vec[ ii ] = y_out;\n",
    "    }\n",
    "}\"\"\") for ii in used_device_ids }\n",
    "\n",
    "for ii in used_device_ids:\n",
    "    prog_c[ ii ].build( options = [ \"-D_GPUCODE=1\", \"-DCERRF_NO_SYSTEM_INCLUDES=1\" ] )"
   ]
  },
  {
   "cell_type": "code",
   "execution_count": 65,
   "metadata": {},
   "outputs": [],
   "source": [
    "prog_c_rev1 = { ii: cl.Program( contexts[ ii ], \"\"\"\n",
    "#include \"cernlib_rev_c/ErrorFunctions.h\"\n",
    "\n",
    "__kernel void eval_cerrf( \n",
    "    long int const num_arguments,\n",
    "    __global double const* __restrict x_vec, \n",
    "    __global double const* __restrict y_vec, \n",
    "    __global double* __restrict x_out_vec, \n",
    "    __global double* __restrict y_out_vec )\n",
    "{\n",
    "    long int const ii =  get_global_id( 0 );\n",
    "    if( ii < num_arguments )\n",
    "    {\n",
    "        double x_out, y_out;        \n",
    "        cerrf_rev( x_vec[ ii ], y_vec[ ii ], &x_out, &y_out );\n",
    "        x_out_vec[ ii ] = x_out;\n",
    "        y_out_vec[ ii ] = y_out;\n",
    "    }\n",
    "}\"\"\") for ii in used_device_ids }\n",
    "\n",
    "for ii in used_device_ids:\n",
    "    prog_c_rev1[ ii ].build( options = [ \"-D_GPUCODE=1\", \"-DCERRF_NO_SYSTEM_INCLUDES=1\" ] )"
   ]
  },
  {
   "cell_type": "code",
   "execution_count": 66,
   "metadata": {},
   "outputs": [],
   "source": [
    "prog_c_rev2 = { ii: cl.Program( contexts[ ii ], \"\"\"\n",
    "#include \"cernlib_rev2_c/ErrorFunctions.h\"\n",
    "\n",
    "__kernel void eval_cerrf( \n",
    "    long int const num_arguments,\n",
    "    __global double const* __restrict x_vec, \n",
    "    __global double const* __restrict y_vec, \n",
    "    __global double* __restrict x_out_vec, \n",
    "    __global double* __restrict y_out_vec )\n",
    "{\n",
    "    long int const ii =  get_global_id( 0 );\n",
    "    if( ii < num_arguments )\n",
    "    {\n",
    "        double x_out, y_out;        \n",
    "        cerrf_rev2( x_vec[ ii ], y_vec[ ii ], &x_out, &y_out );\n",
    "        x_out_vec[ ii ] = x_out;\n",
    "        y_out_vec[ ii ] = y_out;\n",
    "    }\n",
    "}\"\"\") for ii in used_device_ids }\n",
    "\n",
    "for ii in used_device_ids:\n",
    "    prog_c_rev2[ ii ].build( options = [ \"-D_GPUCODE=1\", \"-DCERRF_NO_SYSTEM_INCLUDES=1\" ] )"
   ]
  },
  {
   "cell_type": "code",
   "execution_count": null,
   "metadata": {},
   "outputs": [],
   "source": [
    "import numpy\n",
    "from numpy.random import Generator, MT19937\n",
    "\n",
    "full_random_times = { \"c\":{}, \"rev1\":{}, \"rev2\":{} }\n",
    "full_random_info  = { \"c\":{}, \"rev1\":{}, \"rev2\":{} }\n",
    "num_args = np.array( [ 1, 2, 5, 10, 20, 50, 100, 200, 500, 1000 ] ) * 1024\n",
    "EPS  = float( 2.2e-16 )\n",
    "prng = Generator(MT19937(20150512))\n",
    "\n",
    "print( \"*** cernlib_c kernel:\" )\n",
    "\n",
    "for ii in used_device_ids:\n",
    "    for N in num_args:\n",
    "        x = prng.uniform( -1e3, +1e3 + EPS, N )\n",
    "        y = prng.uniform( -1e3, +1e3 + EPS, N )\n",
    "        x_out = np.zeros( N )\n",
    "        y_out = np.zeros( N )\n",
    "        \n",
    "        print( f\"*** N = {N:8d}\" ) \n",
    "        kernel = prog_c[ ii ].eval_cerrf\n",
    "        full_random_info[ \"c\" ][ \"WORK_GROUP_SIZE\" ] = kernel.get_work_group_info( \n",
    "            cl.kernel_work_group_info.WORK_GROUP_SIZE, devices[ ii ] )\n",
    "        full_random_info[ \"c\" ][ \"PRIVATE_MEM_SIZE\" ] = kernel.get_work_group_info(\n",
    "            cl.kernel_work_group_info.PRIVATE_MEM_SIZE, devices[ ii ] )\n",
    "        full_random_times[ \"c\" ][ N ] = run_benchmark( \n",
    "            contexts[ii], kernel, x, y, x_out, y_out, num_repetitions=50 )\n",
    "\n",
    "print( \"*** cernlib_rev1_c kernel:\" )\n",
    "\n",
    "for ii in used_device_ids:\n",
    "    for N in num_args:\n",
    "        x = prng.uniform( -1e3, +1e3 + EPS, N )\n",
    "        y = prng.uniform( -1e3, +1e3 + EPS, N )\n",
    "        x_out = np.zeros( N )\n",
    "        y_out = np.zeros( N )\n",
    "        \n",
    "        print( f\"*** N = {N:8d}\" ) \n",
    "        kernel = prog_c_rev1[ ii ].eval_cerrf\n",
    "        full_random_info[ \"rev1\" ][ \"WORK_GROUP_SIZE\" ] = kernel.get_work_group_info( \n",
    "            cl.kernel_work_group_info.WORK_GROUP_SIZE, devices[ ii ] )\n",
    "        full_random_info[ \"rev1\" ][ \"PRIVATE_MEM_SIZE\" ] = kernel.get_work_group_info(\n",
    "            cl.kernel_work_group_info.PRIVATE_MEM_SIZE, devices[ ii ] )\n",
    "        full_random_times[ \"rev1\" ][ N ] = run_benchmark( \n",
    "            contexts[ii], kernel, x, y, x_out, y_out, num_repetitions=50 )\n",
    "        \n",
    "print( \"*** cernlib_rev2_c kernel:\" )\n",
    "\n",
    "for ii in used_device_ids:\n",
    "    for N in num_args:\n",
    "        x = prng.uniform( -1e3, +1e3 + EPS, N )\n",
    "        y = prng.uniform( -1e3, +1e3 + EPS, N )\n",
    "        x_out = np.zeros( N )\n",
    "        y_out = np.zeros( N )\n",
    "        \n",
    "        print( f\"*** N = {N:8d}\" ) \n",
    "        kernel = prog_c_rev2[ ii ].eval_cerrf\n",
    "        full_random_info[ \"rev2\" ][ \"WORK_GROUP_SIZE\" ] = kernel.get_work_group_info( \n",
    "            cl.kernel_work_group_info.WORK_GROUP_SIZE, devices[ ii ] )\n",
    "        full_random_info[ \"rev2\" ][ \"PRIVATE_MEM_SIZE\" ] = kernel.get_work_group_info(\n",
    "            cl.kernel_work_group_info.PRIVATE_MEM_SIZE, devices[ ii ] )\n",
    "        full_random_times[ \"rev2\" ][ N ] = run_benchmark( \n",
    "            contexts[ii], kernel, x, y, x_out, y_out, num_repetitions=50 )\n"
   ]
  },
  {
   "cell_type": "code",
   "execution_count": null,
   "metadata": {},
   "outputs": [],
   "source": []
  }
 ],
 "metadata": {
  "kernelspec": {
   "display_name": "Python 3",
   "language": "python",
   "name": "python3"
  },
  "language_info": {
   "codemirror_mode": {
    "name": "ipython",
    "version": 3
   },
   "file_extension": ".py",
   "mimetype": "text/x-python",
   "name": "python",
   "nbconvert_exporter": "python",
   "pygments_lexer": "ipython3",
   "version": "3.8.5"
  }
 },
 "nbformat": 4,
 "nbformat_minor": 4
}
